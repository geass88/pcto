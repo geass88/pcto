{
 "cells": [
  {
   "cell_type": "markdown",
   "metadata": {},
   "source": [
    "<img src=\"https://www.tommasoadamo.it/images/pcto/img1.png\" style=\"margin:auto;width:80%\">"
   ]
  },
  {
   "cell_type": "code",
   "execution_count": null,
   "metadata": {},
   "outputs": [],
   "source": []
  },
  {
   "cell_type": "code",
   "execution_count": null,
   "metadata": {},
   "outputs": [],
   "source": []
  },
  {
   "cell_type": "markdown",
   "metadata": {},
   "source": [
    "# Algoritmi? Programmi?\n",
    "\n",
    "<img src=\"https://tommasoadamo.it/images/pcto/problem-solution-620x285-1.gif\" style=\"margin:auto\">\n",
    "     \n",
    "> Un problema da risolvere\n",
    "\n",
    "> La soluzione al problema\n",
    "\n",
    "<img src=\"https://tommasoadamo.it/images/pcto/origami.png\" style=\"margin:auto\">\n",
    "\n",
    "> La soluzione tradotta in un linguaggio che il computer può capire\n",
    "\n",
    "> Un computer è una macchina che immagazzina informazioni\n",
    "\n",
    "> Un computer sposta, dispone, e controlla tali informazioni (o dati).\n",
    "\n",
    "> Un programma è un insieme dettagliato di istruzioni che dicono a un computer cosa fare con i dati.\n"
   ]
  },
  {
   "cell_type": "markdown",
   "metadata": {},
   "source": [
    "# Architettura calcolatori\n",
    "\n",
    "L'architettura di Von Neumann (1945) è una tipologia di architettura hardware per computer digitali programmabili a programma memorizzato la quale condivide i dati del programma e le istruzioni del programma nello stesso spazio di memoria.\n",
    "\n",
    "<img src=\"https://www.tommasoadamo.it/images/pcto/vonneumann.png\" style=\"margin: auto; width: 800px\">\n"
   ]
  },
  {
   "cell_type": "markdown",
   "metadata": {},
   "source": [
    "Lo schema si basa su cinque componenti fondamentali:\n",
    "\n",
    "> Unità centrale di elaborazione (CPU), che si divide a sua volta in unità aritmetica e logica (ALU o unità di calcolo) e unità di controllo;\n",
    "\n",
    "> Unità di memoria, intesa come memoria di lavoro o memoria principale (RAM, Random Access Memory);\n",
    "\n",
    "> Unità di input, tramite la quale i dati vengono inseriti nel calcolatore per essere elaborati;\n",
    "\n",
    "> Unità di output, necessaria affinché i dati elaborati possano essere restituiti all'operatore;\n",
    "\n",
    "> Bus, un canale che collega tutti i componenti fra loro."
   ]
  },
  {
   "cell_type": "markdown",
   "metadata": {},
   "source": [
    "# Linguaggi di Programmazione"
   ]
  },
  {
   "cell_type": "markdown",
   "metadata": {},
   "source": [
    "<img src=\"https://www.tommasoadamo.it/images/pcto/top-5-linguaggi-di-programmmazione-2021-800x400.png\" style=\"margin: auto\">\n"
   ]
  },
  {
   "cell_type": "markdown",
   "metadata": {},
   "source": [
    "Un linguaggio di programmazione, in informatica, è un linguaggio formale che specifica un insieme di istruzioni che possono essere usate per produrre dati in uscita: esso è utilizzabile per il controllo del comportamento di una macchina formale o di un'implementazione di essa (tipicamente, un computer) ovvero in fase di programmazione di questa attraverso la scrittura del codice sorgente di un programma ad opera di un programmatore."
   ]
  },
  {
   "cell_type": "code",
   "execution_count": null,
   "metadata": {},
   "outputs": [],
   "source": []
  },
  {
   "cell_type": "markdown",
   "metadata": {
    "tags": []
   },
   "source": [
    "# Cos'è Python\n",
    "\n",
    "Python è un linguaggio di programmazione dinamico orientato agli oggetti utilizzabile per molti tipi di sviluppo software. Offre un forte supporto all'integrazione con altri linguaggi e programmi, è fornito di una estesa libreria standard e può essere imparato in pochi giorni. Molti programmatori Python possono confermare un sostanziale aumento di produttività e ritengono che il linguaggio incoraggi allo sviluppo di codice di qualità e manutenibilità superiori.\n",
    "\n",
    "Python gira su Windows, Linux/Unix, Mac OS X, OS/2, Android, iOS; è stato anche portato sulle macchine virtuali Java e .NET.\n",
    "\n",
    "https://www.python.it/\n",
    "\n",
    "https://www.python.org/\n",
    "\n",
    "<img src=\"https://www.tommasoadamo.it/images/pcto/51846771539_e494bdef5a_z.jpg\" style=\"margin: auto\">\n"
   ]
  },
  {
   "cell_type": "code",
   "execution_count": null,
   "metadata": {},
   "outputs": [],
   "source": []
  },
  {
   "cell_type": "markdown",
   "metadata": {},
   "source": [
    "# Primo programma"
   ]
  },
  {
   "cell_type": "code",
   "execution_count": null,
   "metadata": {},
   "outputs": [],
   "source": [
    "print('Ciao mondo!')"
   ]
  },
  {
   "cell_type": "code",
   "execution_count": null,
   "metadata": {},
   "outputs": [],
   "source": []
  },
  {
   "cell_type": "markdown",
   "metadata": {},
   "source": [
    "# Valori ed operatori"
   ]
  },
  {
   "cell_type": "code",
   "execution_count": null,
   "metadata": {},
   "outputs": [],
   "source": [
    "1+2"
   ]
  },
  {
   "cell_type": "code",
   "execution_count": null,
   "metadata": {},
   "outputs": [],
   "source": [
    "7*8"
   ]
  },
  {
   "cell_type": "code",
   "execution_count": null,
   "metadata": {},
   "outputs": [],
   "source": [
    "5**2 - 12/3"
   ]
  },
  {
   "cell_type": "markdown",
   "metadata": {},
   "source": [
    "L'ordine delle operazioni in Python segue le regole della matematica: prima le parentesi, poi le potenze, poi moltiplicazioni/divisioni e infine somme/sottrazioni.\n",
    "\n",
    "<img src=\"https://www.tommasoadamo.it/images/lez1/precedence.jpeg\" style=\"margin:auto\" />\n",
    "\n",
    "Gli operatori nella stessa cella hanno la stessa precedenza.\n",
    "\n",
    "L'**associatività** è l'ordine in cui viene valutata un'espressione con più operatori con la stessa precedenza."
   ]
  },
  {
   "cell_type": "markdown",
   "metadata": {},
   "source": [
    "# Numeri con la virgola\n"
   ]
  },
  {
   "cell_type": "code",
   "execution_count": null,
   "metadata": {},
   "outputs": [],
   "source": [
    "1.5 + 2.8"
   ]
  },
  {
   "cell_type": "code",
   "execution_count": null,
   "metadata": {},
   "outputs": [],
   "source": [
    "7/3"
   ]
  },
  {
   "cell_type": "code",
   "execution_count": null,
   "metadata": {},
   "outputs": [],
   "source": []
  },
  {
   "cell_type": "markdown",
   "metadata": {},
   "source": [
    "# Stringhe\n",
    "\n"
   ]
  },
  {
   "cell_type": "code",
   "execution_count": null,
   "metadata": {},
   "outputs": [],
   "source": [
    "\"ciao mondo\""
   ]
  },
  {
   "cell_type": "code",
   "execution_count": null,
   "metadata": {},
   "outputs": [],
   "source": [
    "'ciao mondo'"
   ]
  },
  {
   "cell_type": "code",
   "execution_count": null,
   "metadata": {},
   "outputs": [],
   "source": []
  },
  {
   "cell_type": "markdown",
   "metadata": {
    "tags": []
   },
   "source": [
    "### Concatenazione e Lunghezza"
   ]
  },
  {
   "cell_type": "code",
   "execution_count": null,
   "metadata": {},
   "outputs": [],
   "source": [
    "print(\"Prima stringa\" + \", \" + \"seconda stringa\")"
   ]
  },
  {
   "cell_type": "code",
   "execution_count": null,
   "metadata": {},
   "outputs": [],
   "source": [
    "\"2\" + \"3\""
   ]
  },
  {
   "cell_type": "code",
   "execution_count": null,
   "metadata": {},
   "outputs": [],
   "source": [
    "\"2\" + 3"
   ]
  },
  {
   "cell_type": "markdown",
   "metadata": {},
   "source": [
    "# Input & Output\n"
   ]
  },
  {
   "cell_type": "code",
   "execution_count": null,
   "metadata": {},
   "outputs": [],
   "source": [
    "input(\"inserisci qualcosa: \")"
   ]
  },
  {
   "cell_type": "code",
   "execution_count": null,
   "metadata": {},
   "outputs": [],
   "source": []
  },
  {
   "cell_type": "code",
   "execution_count": null,
   "metadata": {},
   "outputs": [],
   "source": []
  },
  {
   "cell_type": "markdown",
   "metadata": {},
   "source": [
    "# Conversione di tipo\n",
    "\n"
   ]
  },
  {
   "cell_type": "code",
   "execution_count": null,
   "metadata": {},
   "outputs": [],
   "source": [
    "int(\"5\") + 7"
   ]
  },
  {
   "cell_type": "code",
   "execution_count": null,
   "metadata": {},
   "outputs": [],
   "source": [
    "int(input(\"Inserisci numero: \")) + int(input(\"Inserisci numero: \"))"
   ]
  },
  {
   "cell_type": "code",
   "execution_count": null,
   "metadata": {},
   "outputs": [],
   "source": []
  },
  {
   "cell_type": "markdown",
   "metadata": {
    "tags": []
   },
   "source": [
    "# Variabili\n",
    "\n"
   ]
  },
  {
   "cell_type": "markdown",
   "metadata": {},
   "source": [
    "\n",
    "<img src=\"https://www.tommasoadamo.it/images/lez1/var_assign.jpg\" style=\"margin:auto; width: 320px;\" /> \n",
    "\n"
   ]
  },
  {
   "cell_type": "code",
   "execution_count": null,
   "metadata": {},
   "outputs": [],
   "source": [
    "x = 'ciao'\n",
    "x = 'mondo'"
   ]
  },
  {
   "cell_type": "code",
   "execution_count": null,
   "metadata": {},
   "outputs": [],
   "source": [
    "y = 6"
   ]
  },
  {
   "cell_type": "code",
   "execution_count": null,
   "metadata": {},
   "outputs": [],
   "source": []
  },
  {
   "cell_type": "markdown",
   "metadata": {},
   "source": [
    "<table class=\"topbot-d\">\n",
    "<colgroup class=\"calibre13\">\n",
    "<col class=\"calibre18\">\n",
    "<col class=\"calibre18\">\n",
    "</colgroup>\n",
    "<thead class=\"calibre15\">\n",
    "<tr class=\"calibre16\">\n",
    "<td class=\"table-h\"><p class=\"tab_th\"><strong class=\"calibre4\">Valid variable names</strong></p></td>\n",
    "<td class=\"table-h\"><p class=\"tab_th\"><strong class=\"calibre4\">Invalid variable names</strong></p></td>\n",
    "</tr>\n",
    "</thead>\n",
    "<tbody class=\"calibre17\">\n",
    "<tr class=\"calibre16\">\n",
    "<td class=\"table-b\"><p class=\"taba\"><span class=\"literal\">current_balance</span></p></td>\n",
    "<td class=\"table-b\"><p class=\"taba\"><span class=\"literal\">current-balance</span> (hyphens are not allowed)</p></td>\n",
    "</tr>\n",
    "<tr class=\"calibre16\">\n",
    "<td class=\"table-v\"><p class=\"taba\"><span class=\"literal\">currentBalance</span></p></td>\n",
    "<td class=\"table-v\"><p class=\"taba\"><span class=\"literal\">current balance</span> (spaces are not allowed)</p></td>\n",
    "</tr>\n",
    "<tr class=\"calibre16\">\n",
    "<td class=\"table-b\"><p class=\"taba\"><span class=\"literal\">account4</span></p></td>\n",
    "<td class=\"table-b\"><p class=\"taba\"><span class=\"literal\">4account</span> (can’t begin with a number)</p></td>\n",
    "</tr>\n",
    "<tr class=\"calibre16\">\n",
    "<td class=\"table-v\"><p class=\"taba\"><span class=\"literal\">_42</span></p></td>\n",
    "<td class=\"table-v\"><p class=\"taba\"><span class=\"literal\">42</span> (can’t begin with a number)</p></td>\n",
    "</tr>\n",
    "<tr class=\"calibre16\">\n",
    "<td class=\"table-b\"><p class=\"taba\"><span class=\"literal\">TOTAL_SUM</span></p></td>\n",
    "<td class=\"table-b\"><p class=\"taba\"><span class=\"literal\">TOTAL_\\$UM</span> (special characters like <span class=\"literal\">$</span> are not allowed)</p></td>\n",
    "</tr>\n",
    "<tr class=\"calibre16\">\n",
    "<td class=\"table-va\"><p class=\"taba\"><span class=\"literal\">hello</span></p></td>\n",
    "<td class=\"table-va\"><p class=\"taba\"><span class=\"literal\">'hello'</span> (special characters like <span class=\"literal\">'</span> are not allowed)</p></td>\n",
    "</tr>\n",
    "</tbody>\n",
    "</table>"
   ]
  },
  {
   "cell_type": "code",
   "execution_count": null,
   "metadata": {},
   "outputs": [],
   "source": [
    "variabile_valida = 7"
   ]
  },
  {
   "cell_type": "code",
   "execution_count": null,
   "metadata": {},
   "outputs": [],
   "source": [
    "123abc = 7"
   ]
  },
  {
   "cell_type": "code",
   "execution_count": null,
   "metadata": {},
   "outputs": [],
   "source": [
    "no space"
   ]
  },
  {
   "cell_type": "markdown",
   "metadata": {},
   "source": [
    "Posso assegnare il valore letto in input!"
   ]
  },
  {
   "cell_type": "code",
   "execution_count": null,
   "metadata": {},
   "outputs": [],
   "source": [
    "var = input(\"Inserisci un numero: \")\n",
    "print(var)"
   ]
  },
  {
   "cell_type": "markdown",
   "metadata": {},
   "source": [
    "# Booleani\n"
   ]
  },
  {
   "cell_type": "code",
   "execution_count": null,
   "metadata": {},
   "outputs": [],
   "source": [
    "b = True"
   ]
  },
  {
   "cell_type": "code",
   "execution_count": null,
   "metadata": {},
   "outputs": [],
   "source": [
    "2 == 3"
   ]
  },
  {
   "cell_type": "code",
   "execution_count": null,
   "metadata": {},
   "outputs": [],
   "source": [
    "\"ciao\" == \"ciao\""
   ]
  },
  {
   "cell_type": "code",
   "execution_count": null,
   "metadata": {},
   "outputs": [],
   "source": []
  },
  {
   "cell_type": "markdown",
   "metadata": {},
   "source": [
    "# Le strutture di controllo \n",
    "\n",
    "Costrutti sintattici di un linguaggio di programmazione per controllare il flusso di esecuzione di un programma, ovvero servono a specificare se, quando, in quale ordine e quante volte devono essere eseguite le istruzioni che compongono il codice sorgente.\n",
    "\n",
    "<img src=\"https://www.tommasoadamo.it/images/pcto/Bohm-Jacopini.png\" style=\"margin: auto; width: 900px\"/>\n",
    "\n",
    "Esempio:\n",
    "\n",
    "<img src=\"https://www.tommasoadamo.it/images/pcto/flow.png\" style=\"margin: auto; width: 700px\"/>\n",
    "\n",
    "\n",
    "\n",
    "\n"
   ]
  },
  {
   "cell_type": "markdown",
   "metadata": {},
   "source": [
    "La sequenza è la struttura di controllo fondamentale di qualsiasi linguaggio di programmazione. Stabilisce l'ordine in cui le istruzioni presenti nel testo del programma devono essere eseguite a tempo di esecuzione. Non è altro che la semplice successione delle istruzioni che la macchina esegue in sequenza, una dopo l'altra."
   ]
  },
  {
   "cell_type": "markdown",
   "metadata": {},
   "source": [
    "## Struttura sequenziale con Turtle Graphics\n"
   ]
  },
  {
   "cell_type": "code",
   "execution_count": null,
   "metadata": {},
   "outputs": [],
   "source": [
    "# ALERT: esegui questa cella per abilitare Turtle\n",
    "\n",
    "!pip install ColabTurtlePlus\n",
    "\n",
    "import requests\n",
    "def download(link, nomeFile=None):\n",
    "    if nomeFile == None:\n",
    "        nomeFile = link.split('/')[-1]\n",
    "    richiesta = requests.get(link)\n",
    "    if richiesta.status_code == 200:\n",
    "        with open(nomeFile, 'w') as file:\n",
    "            file.write(richiesta.text)\n",
    "            \n",
    "download('https://tommasoadamo.it/pcto/Tartaruga.py')"
   ]
  },
  {
   "cell_type": "markdown",
   "metadata": {},
   "source": [
    "Facciamo finta di essere una tartaruga che cammina su un foglio bianco, con un pennarello agganciato alla coda. Possiamo procedere in avanti per una certa lunghezza,\n",
    "lasciando un segno, oppure girarci a destra o a sinistra di un certo angolo.\n",
    "Per esempio per disegnare un quadrato di lato 100 (l’unita di misura è\n",
    "puramente convenzionale) possiamo:\n",
    "1. andare avanti di 100\n",
    "2. girare a destra di 90 gradi,\n",
    "3. andare avanti di 100\n",
    "4. girare a destra di 90 gradi,\n",
    "5. andare avanti di 100\n",
    "6. girare a destra di 90 gradi,\n",
    "7. andare avanti di 100"
   ]
  },
  {
   "cell_type": "code",
   "execution_count": null,
   "metadata": {
    "tags": []
   },
   "outputs": [],
   "source": [
    "from Tartaruga import *\n",
    "bob = Tartaruga()\n",
    "bob.colore('green')\n",
    "\n"
   ]
  },
  {
   "cell_type": "markdown",
   "metadata": {},
   "source": [
    "#### Sistema di riferimento della tartaruga"
   ]
  },
  {
   "cell_type": "markdown",
   "metadata": {},
   "source": [
    "<img src=\"https://www.tommasoadamo.it/images/pcto/xy.png\" style=\"margin: auto; width:300px\"/>"
   ]
  },
  {
   "cell_type": "code",
   "execution_count": null,
   "metadata": {},
   "outputs": [],
   "source": [
    "from Tartaruga import *\n",
    "bob = Tartaruga()\n",
    "bob.xy()\n"
   ]
  },
  {
   "cell_type": "code",
   "execution_count": null,
   "metadata": {},
   "outputs": [],
   "source": []
  },
  {
   "cell_type": "code",
   "execution_count": null,
   "metadata": {},
   "outputs": [],
   "source": []
  },
  {
   "cell_type": "markdown",
   "metadata": {},
   "source": [
    "# Condizioni e struttura di selezione\n",
    "\n",
    "\n",
    "<img src=\"https://www.tommasoadamo.it/images/pcto/Bohm-Jacopini.png\" style=\"margin: auto; width: 900px\"/>\n",
    "\n"
   ]
  },
  {
   "cell_type": "markdown",
   "metadata": {},
   "source": [
    "La selezione (detta anche struttura condizionale) è una struttura di controllo del flusso di esecuzione di un programma che indica all'elaboratore, in base alla verifica di una condizione logica specificata, quale fra due sequenze o blocchi di istruzioni eseguire, realizzando dunque un controllo logico di elaborazione."
   ]
  },
  {
   "cell_type": "code",
   "execution_count": null,
   "metadata": {},
   "outputs": [],
   "source": [
    "from Tartaruga import *\n",
    "bob = Tartaruga()\n",
    "\n"
   ]
  },
  {
   "cell_type": "code",
   "execution_count": null,
   "metadata": {},
   "outputs": [],
   "source": []
  },
  {
   "cell_type": "code",
   "execution_count": null,
   "metadata": {},
   "outputs": [],
   "source": []
  },
  {
   "cell_type": "markdown",
   "metadata": {},
   "source": [
    "# Logica booleana: operatori **and**, **or** e **not**\n",
    "\n",
    "\n",
    "\n",
    "\n",
    "<table class=\"topbot-d\">\n",
    "<colgroup class=\"calibre13\">\n",
    "<col class=\"calibre18\">\n",
    "<col class=\"calibre18\">\n",
    "</colgroup>\n",
    "<thead class=\"calibre15\">\n",
    "<tr class=\"calibre16\">\n",
    "<td class=\"table-h\"><p class=\"tab_th\"><strong class=\"calibre4\">Expression</strong></p></td>\n",
    "<td class=\"table-h\"><p class=\"tab_th\"><strong class=\"calibre4\">Evaluates to . . .</strong></p></td>\n",
    "</tr>\n",
    "</thead>\n",
    "<tbody class=\"calibre17\">\n",
    "<tr class=\"calibre16\">\n",
    "<td class=\"table-b\"><p class=\"taba\"><span class=\"literal\">True and True</span></p></td>\n",
    "<td class=\"table-b\"><p class=\"taba\"><span class=\"literal\">True</span></p></td>\n",
    "</tr>\n",
    "<tr class=\"calibre16\">\n",
    "<td class=\"table-b\"><p class=\"taba\"><span class=\"literal\">True and False</span></p></td>\n",
    "<td class=\"table-b\"><p class=\"taba\"><span class=\"literal\">False</span></p></td>\n",
    "</tr>\n",
    "<tr class=\"calibre16\">\n",
    "<td class=\"table-b\"><p class=\"taba\"><span class=\"literal\">False and True</span></p></td>\n",
    "<td class=\"table-b\"><p class=\"taba\"><span class=\"literal\">False</span></p></td>\n",
    "</tr>\n",
    "<tr class=\"calibre16\">\n",
    "<td class=\"table-ba\"><p class=\"taba\"><span class=\"literal\">False and False</span></p></td>\n",
    "<td class=\"table-ba\"><p class=\"taba\"><span class=\"literal\">False</span></p></td>\n",
    "</tr>\n",
    "</tbody>\n",
    "</table>"
   ]
  },
  {
   "cell_type": "code",
   "execution_count": null,
   "metadata": {},
   "outputs": [],
   "source": [
    "x = 1\n",
    "y = 2"
   ]
  },
  {
   "cell_type": "code",
   "execution_count": null,
   "metadata": {},
   "outputs": [],
   "source": [
    "x == 1 and y == 2"
   ]
  },
  {
   "cell_type": "code",
   "execution_count": null,
   "metadata": {},
   "outputs": [],
   "source": [
    "x == 1 and y == 3"
   ]
  },
  {
   "cell_type": "code",
   "execution_count": null,
   "metadata": {},
   "outputs": [],
   "source": [
    "x != 1 and y == 2"
   ]
  },
  {
   "cell_type": "code",
   "execution_count": null,
   "metadata": {},
   "outputs": [],
   "source": [
    "3 > x and 1 < y"
   ]
  },
  {
   "cell_type": "markdown",
   "metadata": {},
   "source": [
    "\n",
    "<table class=\"topbot-d\">\n",
    "<colgroup class=\"calibre13\">\n",
    "<col class=\"calibre18\">\n",
    "<col class=\"calibre18\">\n",
    "</colgroup>\n",
    "<thead class=\"calibre15\">\n",
    "<tr class=\"calibre16\">\n",
    "<td class=\"table-h\"><p class=\"tab_th\"><strong class=\"calibre4\">Expression</strong></p></td>\n",
    "<td class=\"table-h\"><p class=\"tab_th\"><strong class=\"calibre4\">Evaluates to . . .</strong></p></td>\n",
    "</tr>\n",
    "</thead>\n",
    "<tbody class=\"calibre17\">\n",
    "<tr class=\"calibre16\">\n",
    "<td class=\"table-b\"><p class=\"taba\"><span class=\"literal\">True or True</span></p></td>\n",
    "<td class=\"table-b\"><p class=\"taba\"><span class=\"literal\">True</span></p></td>\n",
    "</tr>\n",
    "<tr class=\"calibre16\">\n",
    "<td class=\"table-b\"><p class=\"taba\"><span class=\"literal\">True or False</span></p></td>\n",
    "<td class=\"table-b\"><p class=\"taba\"><span class=\"literal\">True</span></p></td>\n",
    "</tr>\n",
    "<tr class=\"calibre16\">\n",
    "<td class=\"table-b\"><p class=\"taba\"><span class=\"literal\">False or True</span></p></td>\n",
    "<td class=\"table-b\"><p class=\"taba\"><span class=\"literal\">True</span></p></td>\n",
    "</tr>\n",
    "<tr class=\"calibre16\">\n",
    "<td class=\"table-ba\"><p class=\"taba\"><span class=\"literal\">False or False</span></p></td>\n",
    "<td class=\"table-ba\"><p class=\"taba\"><span class=\"literal\">False</span></p></td>\n",
    "</tr>\n",
    "</tbody>\n",
    "</table>"
   ]
  },
  {
   "cell_type": "code",
   "execution_count": null,
   "metadata": {},
   "outputs": [],
   "source": [
    "x == 1 or y == 2"
   ]
  },
  {
   "cell_type": "code",
   "execution_count": null,
   "metadata": {},
   "outputs": [],
   "source": [
    "x == 1 or y == 3"
   ]
  },
  {
   "cell_type": "code",
   "execution_count": null,
   "metadata": {},
   "outputs": [],
   "source": [
    "x != 1 or y == 2"
   ]
  },
  {
   "cell_type": "code",
   "execution_count": null,
   "metadata": {},
   "outputs": [],
   "source": [
    "x < 1 or y > 6"
   ]
  },
  {
   "cell_type": "markdown",
   "metadata": {},
   "source": [
    "\n",
    "\n",
    "<table class=\"topbot-d\">\n",
    "<colgroup class=\"calibre13\">\n",
    "<col class=\"calibre18\">\n",
    "<col class=\"calibre18\">\n",
    "</colgroup>\n",
    "<thead class=\"calibre15\">\n",
    "<tr class=\"calibre16\">\n",
    "<td class=\"table-h\"><p class=\"tab_th\"><strong class=\"calibre4\">Expression</strong></p></td>\n",
    "<td class=\"table-h\"><p class=\"tab_th\"><strong class=\"calibre4\">Evaluates to . . .</strong></p></td>\n",
    "</tr>\n",
    "</thead>\n",
    "<tbody class=\"calibre17\">\n",
    "<tr class=\"calibre16\">\n",
    "<td class=\"table-b\"><p class=\"taba\"><span class=\"literal\">not True</span></p></td>\n",
    "<td class=\"table-b\"><p class=\"taba\"><span class=\"literal\">False</span></p></td>\n",
    "</tr>\n",
    "<tr class=\"calibre16\">\n",
    "<td class=\"table-ba\"><p class=\"taba\"><span class=\"literal\">not False</span></p></td>\n",
    "<td class=\"table-ba\"><p class=\"taba\"><span class=\"literal\">True</span></p></td>\n",
    "</tr>\n",
    "</tbody>\n",
    "</table>"
   ]
  },
  {
   "cell_type": "code",
   "execution_count": null,
   "metadata": {},
   "outputs": [],
   "source": [
    "not x == 1"
   ]
  },
  {
   "cell_type": "code",
   "execution_count": null,
   "metadata": {},
   "outputs": [],
   "source": [
    "not x > 7"
   ]
  },
  {
   "cell_type": "code",
   "execution_count": null,
   "metadata": {},
   "outputs": [],
   "source": []
  }
 ],
 "metadata": {
  "kernelspec": {
   "display_name": "Python 3.10.4 64-bit",
   "language": "python",
   "name": "python3"
  },
  "language_info": {
   "codemirror_mode": {
    "name": "ipython",
    "version": 3
   },
   "file_extension": ".py",
   "mimetype": "text/x-python",
   "name": "python",
   "nbconvert_exporter": "python",
   "pygments_lexer": "ipython3",
   "version": "3.10.4"
  },
  "vscode": {
   "interpreter": {
    "hash": "916dbcbb3f70747c44a77c7bcd40155683ae19c65e1c03b4aa3499c5328201f1"
   }
  }
 },
 "nbformat": 4,
 "nbformat_minor": 4
}
