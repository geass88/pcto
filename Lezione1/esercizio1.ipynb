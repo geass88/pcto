{
 "cells": [
  {
   "cell_type": "markdown",
   "id": "43f2babd-e44d-4a9f-b2d3-e9f569a4c1ae",
   "metadata": {},
   "source": [
    "# Esercizio 1\n",
    "\n",
    "#### Utilizzare il modulo \"Tartaruga\" per disegnare un triangolo equilatero.\n",
    "\n",
    "<img src=\"https://www.tommasoadamo.it/images/pcto/triangolo.png\"/>\n",
    "\n",
    "> Teorema: la somma degli angoli interni di un poligono convesso di n lati vale $(n-2) \\cdot 180°$.\n",
    "\n",
    "> Teorema: la somma degli angoli esterni di un poligono convesso è uguale ad un angolo giro ($360°$), qualunque sia il numero dei suoi lati."
   ]
  },
  {
   "cell_type": "code",
   "execution_count": null,
   "id": "4a0b86d9",
   "metadata": {},
   "outputs": [],
   "source": [
    "# ALERT: esegui questa cella per abilitare Turtle\n",
    "\n",
    "!pip install ColabTurtlePlus\n",
    "\n",
    "import requests\n",
    "def download(link, nomeFile=None):\n",
    "    if nomeFile == None:\n",
    "        nomeFile = link.split('/')[-1]\n",
    "    richiesta = requests.get(link)\n",
    "    if richiesta.status_code == 200:\n",
    "        with open(nomeFile, 'w') as file:\n",
    "            file.write(richiesta.text)\n",
    "            \n",
    "download('https://tommasoadamo.it/pcto/Tartaruga.py')"
   ]
  },
  {
   "cell_type": "code",
   "execution_count": null,
   "id": "f63d6110-f7b9-4fd3-8f60-0be8d21f4422",
   "metadata": {},
   "outputs": [],
   "source": [
    "from Tartaruga import *\n",
    "# fissa()\n",
    "bob = Tartaruga()\n",
    "bob.sollevaSpostaPosa(-100, -100)\n",
    "\n",
    "# aggiungi il tuo codice qui sotto\n",
    "\n"
   ]
  }
 ],
 "metadata": {
  "kernelspec": {
   "display_name": "Python 3 (ipykernel)",
   "language": "python",
   "name": "python3"
  },
  "language_info": {
   "codemirror_mode": {
    "name": "ipython",
    "version": 3
   },
   "file_extension": ".py",
   "mimetype": "text/x-python",
   "name": "python",
   "nbconvert_exporter": "python",
   "pygments_lexer": "ipython3",
   "version": "3.8.12"
  }
 },
 "nbformat": 4,
 "nbformat_minor": 5
}
