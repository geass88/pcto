{
 "cells": [
  {
   "cell_type": "markdown",
   "id": "43f2babd-e44d-4a9f-b2d3-e9f569a4c1ae",
   "metadata": {},
   "source": [
    "# Esercizio 5\n",
    "\n",
    "\n",
    "#### Verificare se un valore fornito in input appartiene ad una lista.\n"
   ]
  },
  {
   "cell_type": "code",
   "execution_count": null,
   "id": "e06c9215-a5db-400f-be1d-c7c8e710dd48",
   "metadata": {},
   "outputs": [],
   "source": [
    "lista = [80, 20, 70, 10, 40, 10, 90, 30, 50, 100, 0, 60,10]\n",
    "valore = int(input(\"Inserisci un valore: \"))\n",
    "# aggiungi il tuo codice qui sotto\n",
    "\n",
    "trovato = False\n",
    "x = 0\n",
    "for p in lista:\n",
    "    if p == valore:\n",
    "        trovato = True\n",
    "        print(x)\n",
    "    x += 1\n",
    "\n",
    "if trovato:\n",
    "    print('Valore trovato')\n",
    "else:\n",
    "    print('Valore assente')\n"
   ]
  },
  {
   "cell_type": "code",
   "execution_count": null,
   "id": "214f4d40-1a05-4c5c-a5a7-7f3f91e9fb0c",
   "metadata": {},
   "outputs": [],
   "source": [
    "lista = [80, 20, 70, 10, 40, 10, 90, 30, 50, 100, 0, 60,10]\n",
    "valore = int(input(\"Inserisci un valore: \"))\n",
    "# aggiungi il tuo codice qui sotto\n",
    "\n",
    "trovato = False\n",
    "\n",
    "for p in range(len(lista)):\n",
    "    if lista[p] == valore:\n",
    "        trovato = True\n",
    "        print(p)\n",
    "\n",
    "if trovato:\n",
    "    print('Valore trovato')\n",
    "else:\n",
    "    print('Valore assente')\n"
   ]
  },
  {
   "cell_type": "code",
   "execution_count": null,
   "id": "1f538b6d-cf55-4e82-9bdd-d0a2473a92b4",
   "metadata": {},
   "outputs": [],
   "source": [
    "lista = [80, 20, 70, 10, 40, 10, 90, 30, 50, 100, 0, 60,10]\n",
    "valore = int(input(\"Inserisci un valore: \"))\n",
    "\n",
    "if valore in lista:\n",
    "    print('Valore trovato')\n",
    "else:\n",
    "    print('Valore assente')\n"
   ]
  },
  {
   "cell_type": "code",
   "execution_count": null,
   "id": "18e467f2-aaff-49b3-acf7-13940119d964",
   "metadata": {},
   "outputs": [],
   "source": []
  }
 ],
 "metadata": {
  "kernelspec": {
   "display_name": "Python 3 (ipykernel)",
   "language": "python",
   "name": "python3"
  },
  "language_info": {
   "codemirror_mode": {
    "name": "ipython",
    "version": 3
   },
   "file_extension": ".py",
   "mimetype": "text/x-python",
   "name": "python",
   "nbconvert_exporter": "python",
   "pygments_lexer": "ipython3",
   "version": "3.9.13"
  }
 },
 "nbformat": 4,
 "nbformat_minor": 5
}
