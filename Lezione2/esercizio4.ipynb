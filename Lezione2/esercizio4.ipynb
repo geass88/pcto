{
 "cells": [
  {
   "cell_type": "markdown",
   "metadata": {},
   "source": [
    "# Esercizio 4\n",
    "\n",
    "#### Il maestro di Gauss spesso assegnava ai suoi alunni un compito molto laborioso, calcolare la somma dei numeri da 0 a N, in questo modo manteneva impegnati i ragazzini per un bel po’ così da potersi dedicare ad altre attività. Il piccolo Gauss a soli 10 anni invece calcolò in pochi secondi la somma dei numeri da 0 a 100 assegnatagli dal maestro, infatti quest’ultimo pensava che il bambino lo stesse prendendo in giro, ma verificando il risultato prese atto che era corretto. Ma come aveva fatto Gauss?\n",
    "\n",
    "#### Dato in input un numero intero positivo N, calcolare la somma dei numeri naturali da 0 ad N.\n"
   ]
  },
  {
   "cell_type": "markdown",
   "metadata": {},
   "source": [
    "$\\large \\sum\\limits_{k=1}^{N} k = N \\dfrac{N+1}{2} $"
   ]
  },
  {
   "cell_type": "code",
   "execution_count": null,
   "metadata": {},
   "outputs": [],
   "source": [
    "N = 100\n",
    "# aggiungi il tuo codice qui sotto\n",
    "\n",
    "\n"
   ]
  }
 ],
 "metadata": {
  "kernelspec": {
   "display_name": "Python 3 (ipykernel)",
   "language": "python",
   "name": "python3"
  },
  "language_info": {
   "codemirror_mode": {
    "name": "ipython",
    "version": 3
   },
   "file_extension": ".py",
   "mimetype": "text/x-python",
   "name": "python",
   "nbconvert_exporter": "python",
   "pygments_lexer": "ipython3",
   "version": "3.8.10"
  }
 },
 "nbformat": 4,
 "nbformat_minor": 4
}
