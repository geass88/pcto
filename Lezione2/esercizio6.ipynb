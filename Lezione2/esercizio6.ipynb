{
 "cells": [
  {
   "cell_type": "markdown",
   "id": "43f2babd-e44d-4a9f-b2d3-e9f569a4c1ae",
   "metadata": {},
   "source": [
    "# Esercizio 6\n",
    "\n",
    "\n",
    "#### Data una lista di valori numerici disporli in ordine crescente.\n"
   ]
  },
  {
   "cell_type": "code",
   "execution_count": null,
   "id": "a5f95462-f99f-4db1-98ed-3c0c4b46e798",
   "metadata": {},
   "outputs": [],
   "source": [
    "lista = [80, 20, 70, 10, 40, 90, 30, 50, 100, 0, 60]\n",
    "# aggiungi il tuo codice qui sotto\n",
    "\n"
   ]
  }
 ],
 "metadata": {
  "kernelspec": {
   "display_name": "Python 3 (ipykernel)",
   "language": "python",
   "name": "python3"
  },
  "language_info": {
   "codemirror_mode": {
    "name": "ipython",
    "version": 3
   },
   "file_extension": ".py",
   "mimetype": "text/x-python",
   "name": "python",
   "nbconvert_exporter": "python",
   "pygments_lexer": "ipython3",
   "version": "3.8.10"
  }
 },
 "nbformat": 4,
 "nbformat_minor": 5
}
